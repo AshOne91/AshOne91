{
  "nbformat": 4,
  "nbformat_minor": 0,
  "metadata": {
    "colab": {
      "provenance": [],
      "include_colab_link": true
    },
    "kernelspec": {
      "name": "python3",
      "display_name": "Python 3"
    },
    "language_info": {
      "name": "python"
    }
  },
  "cells": [
    {
      "cell_type": "markdown",
      "metadata": {
        "id": "view-in-github",
        "colab_type": "text"
      },
      "source": [
        "<a href=\"https://colab.research.google.com/github/AshOne91/AshOne91/blob/main/zero_shot%2C_one_shot%2C_few_shot_%ED%94%84%EB%A1%AC%ED%94%84%ED%8A%B8_%EC%9D%B4%ED%95%B4_%EB%B0%8F_%EC%A0%81%EC%9A%A9.ipynb\" target=\"_parent\"><img src=\"https://colab.research.google.com/assets/colab-badge.svg\" alt=\"Open In Colab\"/></a>"
      ]
    },
    {
      "cell_type": "code",
      "execution_count": null,
      "metadata": {
        "id": "-gP8d3a1NgHv"
      },
      "outputs": [],
      "source": []
    },
    {
      "cell_type": "markdown",
      "source": [
        "prompt\n",
        "```\n",
        "  LLM에 전달되는 입력(질문,지시,문맥), 모델이 원하는 출력을 생성하도록 유도  \n",
        "```\n",
        "GPT(Generative Pre-trained Transformer)\n",
        "```\n",
        "  입력텍스트를 토큰을 분리 각 토큰에 대해 다음 토큰의 확률분포를 예측\n",
        "  ex) 하늘은  \"파랗다\"(0.4) \"맑다\"(0.3),,\n",
        "```\n",
        "파라메터\n",
        "```\n",
        "  Temperature : 출력의 창의성/무작위성 조절\n",
        "    낮은값(0.2) : 결정적이고 일관된 출력  ex 하늘은 파랗다\n",
        "    높은값(0.9) : 창의적이고 다양한 출력  ex) 하늘은 꿈의 캠퍼스다\n",
        "  Top-p(Nucleus Sampling) : 상위 p% 토큰을 고려\n",
        "    0.1 : 상위10% 확률의 토큰만 고려 -> 보수적\n",
        "    0.9 : 더많은 토큰을 고려 -> 다양\n",
        "  Top-k : 상위 k개의 토큰만 고려... 일반적으로 Top-p가 대세적\n",
        "  MaxTokens\n",
        "```"
      ],
      "metadata": {
        "id": "HeoVY3n7NqTk"
      }
    },
    {
      "cell_type": "code",
      "source": [
        "prompts = [\n",
        "  \"AI공부를 잘하려면\",\n",
        "  \"자격증을 취득하려면\"\n",
        "]"
      ],
      "metadata": {
        "id": "AY0viLI6PqqO"
      },
      "execution_count": null,
      "outputs": []
    },
    {
      "cell_type": "code",
      "source": [
        "import openai\n",
        "from openai import OpenAI\n",
        "import os\n",
        "OPENAI_API_KEY  = \"\""
      ],
      "metadata": {
        "id": "GHaCBU2fUBPN"
      },
      "execution_count": null,
      "outputs": []
    },
    {
      "cell_type": "code",
      "source": [
        "client = OpenAI(api_key=OPENAI_API_KEY)\n",
        "# openai api 호출 함수\n",
        "def call_openai(prompt, model=\"gpt-3.5-turbo\", temperature=0.5, max_tokens=2048):\n",
        "  response = client.chat.completions.create(\n",
        "    model=model,\n",
        "    messages=[\n",
        "      {\"role\": \"user\", \"content\": prompt}\n",
        "    ],\n",
        "    temperature=temperature,\n",
        "    max_tokens=max_tokens\n",
        "  )\n",
        "  return response.choices[0].message.content"
      ],
      "metadata": {
        "id": "W_aSAH36RNkN"
      },
      "execution_count": null,
      "outputs": []
    },
    {
      "cell_type": "code",
      "source": [
        "# 샘플 프롬프트 실행  각문장별로 temperature 0.2, 0.9\n",
        "for prompt in prompts:\n",
        "  print(f\"prompt : {prompt}\")\n",
        "  print(f\"temperature : 0.2, output : {call_openai(prompt, temperature=0.2)}\")\n",
        "  print(f\"temperature : 0.9, output : {call_openai(prompt, temperature=0.9)}\")"
      ],
      "metadata": {
        "colab": {
          "base_uri": "https://localhost:8080/"
        },
        "id": "HbD-cfuiRysu",
        "outputId": "5fd85ae2-4bb3-4cb4-c29b-544f0e7579a7"
      },
      "execution_count": null,
      "outputs": [
        {
          "output_type": "stream",
          "name": "stdout",
          "text": [
            "prompt : AI공부를 잘하려면\n",
            "temperature : 0.2, output :  다음과 같은 방법을 추천합니다:\n",
            "\n",
            "1. 기본 이론 공부: AI의 기본 이론과 원리를 이해하는 것이 중요합니다. 머신러닝, 딥러닝, 강화학습 등의 기초 개념을 숙지해야 합니다.\n",
            "\n",
            "2. 프로그래밍 언어 학습: Python\n",
            "temperature : 0.9, output : 다음과 같은 방법을 통해 AI 공부를 잘할 수 있습니다:\n",
            "\n",
            "1. 기본 지식 습득: AI 및 머신 러닝에 대한 기본 지식을 습득하고 이해하는 것이 중요합니다. 이를 위해 온라인 강의, 책, 논문 등을 통해 기본\n",
            "prompt : 자격증을 취득하려면\n",
            "temperature : 0.2, output :  해당 자격증을 취득하기 위한 시험을 신청하고 시험을 준비해야 합니다. 자격증에 따라 필요한 시험과 준비과정이 다를 수 있으니 해당 자격증을 취득하기 위한 자세한 정보는 해당 자격증을 발급하는 기관\n",
            "temperature : 0.9, output :  해당 자격증이 요구하는 자격요건을 충족해야 합니다. 일반적으로 자격요건은 해당 분야의 학위나 교육 이수, 일정 기간의 경력, 시험 통과 등이 있을 수 있습니다. 자격증 취득을 위해선 해당 자격증을\n"
          ]
        }
      ]
    },
    {
      "cell_type": "markdown",
      "source": [
        "네이버지식인에 질문을 prompt로 해서 실행\n",
        "  - 네이버 지식인 클롤링"
      ],
      "metadata": {
        "id": "Ea66tI7_Wv-6"
      }
    },
    {
      "cell_type": "code",
      "source": [
        "import requests\n",
        "from bs4 import BeautifulSoup"
      ],
      "metadata": {
        "id": "EZnUpplMS1y9"
      },
      "execution_count": null,
      "outputs": []
    },
    {
      "cell_type": "code",
      "source": [
        "# 네이버 지식인 크롤링\n",
        "def crawl_naver_kin(question,limit=3):\n",
        "  url = \"https://kin.naver.com/search/list.naver?query=\" + question\n",
        "  response = requests.get(url)\n",
        "  html = response.text\n",
        "  soup = BeautifulSoup(html, 'html.parser')\n",
        "  questions = []\n",
        "  for item in soup.select('#s_content > div.section > ul > li > dl > dt > a')[:limit]:\n",
        "    questions.append(item.text)\n",
        "  return questions"
      ],
      "metadata": {
        "id": "u3cWwVXlW-4l"
      },
      "execution_count": null,
      "outputs": []
    },
    {
      "cell_type": "code",
      "source": [
        "for doc in crawl_naver_kin(\"직장인 점심메뉴\"):\n",
        "  print(doc)\n",
        "  print(call_openai(doc, temperature=0.2))\n",
        "  print(call_openai(doc, temperature=0.9))\n",
        "  print('*'*100)"
      ],
      "metadata": {
        "colab": {
          "base_uri": "https://localhost:8080/"
        },
        "id": "hFnL3zEDacjd",
        "outputId": "304de9eb-a166-4edf-cfcf-06e572b6c96f"
      },
      "execution_count": null,
      "outputs": [
        {
          "output_type": "stream",
          "name": "stdout",
          "text": [
            "직장인 점심 메뉴 고민, 질리지 않게... \n",
            "1. 다양한 종류의 샐러드: 샐러드에는 다양한 채소, 단백질원료, 견과류, 과일 등을 섞어 다양한 맛을 느낄 수 있습니다. \n",
            "\n",
            "2. 차별화된 샌드위치: 다양한 재료와 소스를 활용\n",
            "1. 다채로운 샐러드 세트: 다양한 신선한 채소와 함께 고기나 생선을 추가하여 영양가를 높이고 포만감을 느낄 수 있습니다.\n",
            "\n",
            "2. 볶음밥 세트: 다양한 종류의 볶음밥과 사이드 디시\n",
            "****************************************************************************************************\n",
            "오늘 점심 다들 어떤메뉴 드시나요?\n",
            "제가 오늘 점심에는 샐러드와 스프를 먹었어요. 다른 분들은 어떤 메뉴를 드셨나요?\n",
            "제가 먹은 건 떡볶이예요.매운맛이 강한걸 좋아해서 떡볶이를 선택했는데 다른 메뉴는 뭘 먹었나요?\n",
            "****************************************************************************************************\n",
            "직장인 점심 메뉴 1위는 뭔가요?\n",
            "점심 메뉴 1위는 다양하겠지만, 한국에서는 백반, 덮밥, 김밥, 라면, 샐러드 등이 인기 있는 선택지입니다. 또한, 햄버거, 샌드위치, 피자, 중식, 일식, 양식 등 다양한 종류\n",
            "저는 모든 직장인들의 취향에 따라서 다르겠지만, 대부분의 직장인들이 즐기는 인기 있는 점심 메뉴 중 하나는 도시락이나 샐러드일 것 같습니다. 다양한 종류의 도시락이나 신선한 채\n",
            "****************************************************************************************************\n"
          ]
        }
      ]
    },
    {
      "cell_type": "markdown",
      "source": [
        "Zero-Shot\n",
        "```\n",
        "모델한테 예시없이(학습) 작업을 수행\n",
        "프롬프트만으로 작업을 수행하도록 모델에 지시\n",
        "적합한 상황\n",
        "  감정분석 : 긍정/부정/중립\n",
        "  카테고리분류 : 뉴스기사등...(정치,경제..)\n",
        "```"
      ],
      "metadata": {
        "id": "6TS10LbGcOmB"
      }
    },
    {
      "cell_type": "code",
      "source": [
        "# 감정분류용 리뷰\n",
        "reviews = [\n",
        "    '이 제품은 정말 훌륭합니다. 적극 추천합니다.',\n",
        "    '배송이 너무 느리고 품질도 별로에요',\n",
        "    '가격대비 괜찮은 제품인거 같습니다',\n",
        "]\n",
        "# 카테고리 분류용 뉴스 헤드라인\n",
        "headlines = [\n",
        "    '국가안보실, 북 미사일 대응 안보상황 점검회의',\n",
        "    'DL이앤씨, 울릉공항 건설 위한 마지막 케이슨 설치 완료',\n",
        "    \"수도권 전세사기로 '88억 원' 가로챈 일당 송치\",\n",
        "]"
      ],
      "metadata": {
        "id": "41EjfhxsafjN"
      },
      "execution_count": null,
      "outputs": []
    },
    {
      "cell_type": "code",
      "source": [
        "# zero-shot 감정분석\n",
        "for review in reviews:\n",
        "  sentiment_prompt = f'''\n",
        "    다음 리뷰의 감정을 긍정 부정 중립으로 분류해줘:\n",
        "    리뷰 : {review}\n",
        "    감정 :\n",
        "  '''\n",
        "  result = call_openai(sentiment_prompt,temperature=0.3)\n",
        "  print(f\"review : {review}, sentiment : {result}\")"
      ],
      "metadata": {
        "id": "Q3nEdtOPd60t",
        "colab": {
          "base_uri": "https://localhost:8080/"
        },
        "outputId": "104f90dc-7150-488e-f8b9-f8c09043aad6"
      },
      "execution_count": null,
      "outputs": [
        {
          "output_type": "stream",
          "name": "stdout",
          "text": [
            "review : 이 제품은 정말 훌륭합니다. 적극 추천합니다., sentiment : 긍정\n",
            "review : 배송이 너무 느리고 품질도 별로에요, sentiment : 부정적인 감정입니다.\n",
            "review : 가격대비 괜찮은 제품인거 같습니다, sentiment : 긍정\n"
          ]
        }
      ]
    },
    {
      "cell_type": "code",
      "source": [
        "# zero-shot 카테고리 분류\n",
        "for article in headlines:\n",
        "  article_prompt = f'''\n",
        "    다음 뉴스의 헤드라인의 카테고리를 정치 경제 사회로 분류해줘\n",
        "    헤드라인 : {article}\n",
        "    카테고리 :\n",
        "  '''\n",
        "  result = call_openai(article_prompt,temperature=0.3)\n",
        "  print(f\"review : {article}, sentiment : {result}\")"
      ],
      "metadata": {
        "colab": {
          "base_uri": "https://localhost:8080/"
        },
        "id": "e2-o44fyfCw7",
        "outputId": "0856a40c-b19a-48ca-e3f0-29b972328034"
      },
      "execution_count": null,
      "outputs": [
        {
          "output_type": "stream",
          "name": "stdout",
          "text": [
            "review : 국가안보실, 북 미사일 대응 안보상황 점검회의, sentiment : 정치\n",
            "review : DL이앤씨, 울릉공항 건설 위한 마지막 케이슨 설치 완료, sentiment : 경제\n",
            "review : 수도권 전세사기로 '88억 원' 가로챈 일당 송치, sentiment : 사회\n"
          ]
        }
      ]
    },
    {
      "cell_type": "code",
      "source": [
        "# 네이버 뉴스 헤드라 크롤링\n",
        "def crawl_naver_headline(limit=3):  # cnf_news_title\n",
        "  url = \"https://news.naver.com/\"\n",
        "  response = requests.get(url)\n",
        "  html = response.text\n",
        "  soup = BeautifulSoup(html, 'html.parser')\n",
        "  headlines = []\n",
        "  for item in soup.find_all('strong', class_='cnf_news_title')[:limit]:\n",
        "    if item.text.isdigit() != True:\n",
        "      headlines.append(item.text)\n",
        "  return headlines"
      ],
      "metadata": {
        "id": "GWJW3Wy6grrx"
      },
      "execution_count": null,
      "outputs": []
    },
    {
      "cell_type": "code",
      "source": [
        "# zero-shot 카테고리 분류 - 네이버 뉴\n",
        "for news in crawl_naver_headline(10):\n",
        "  news_prompt = f'''\n",
        "    다음 뉴스의 헤드라인의 카테고리를 정치 경제 사회 생활/문화 IT/과학 세계 로 분류해줘\n",
        "    헤드라인 : {news}\n",
        "    카테고리 :\n",
        "  '''\n",
        "  result = call_openai(news_prompt,temperature=0.1)\n",
        "  print(f\"news : {news}, category : {result}\")"
      ],
      "metadata": {
        "colab": {
          "base_uri": "https://localhost:8080/"
        },
        "id": "Hq03-fDNic2E",
        "outputId": "1a4a74a0-d442-4dc1-c55c-65b53432bf72"
      },
      "execution_count": null,
      "outputs": [
        {
          "output_type": "stream",
          "name": "stdout",
          "text": [
            "news : 삼엽충 보고 100주년…지질연, 삼엽충 백과사전 발간, category : 생활/문화\n",
            "news : 김문수 \"후보 등록할 생각도 없는 한덕수 누가 끌어냈나\", category : 정치\n",
            "news : 경북 산불로 꿀벌 3억2000만마리 사라져…양봉 피해 ‘눈덩이’, category : 사회\n",
            "news : 카메라 앞에 쪼그려 앉아 봄을 캔다, category : 생활/문화\n",
            "news : [속보]한덕수 \"김문수와 회동 응하기 위해 서울로 이동\", category : 정치\n",
            "news : 김문수 “당무 우선권 발동…다음주 여론조사 후 단일화 제안”, category : 정치\n",
            "news : 전망 엇갈린 반도체 ETF, 한 숨 돌린 테슬라… '서학개미' 혼돈의 4월, category : 경제\n",
            "news : \"美·中과 경쟁 무의미\"…새 정부, 제조·인재·거버넌스로 AI 패권 도전해야, category : 정치, IT/과학\n",
            "news : 韓 측, 김문수 '다음 주 단일화' 제안에 \"하지 말자는 것\", category : 정치\n",
            "news : [속보] 권성동 \"김문수, 알량한 후보자리 지키려 회견\", category : 정치\n"
          ]
        }
      ]
    },
    {
      "cell_type": "markdown",
      "source": [
        "one-shot\n",
        "```\n",
        "  하나의 예시(입력과 출력쌍)\n",
        "  제로샷보다는 더 명호가한 가이드 제공,성능 향상\n",
        "  단점 : 예시선택이 결과에 큰 영향, 부적절한 예시는 성능 저하\n",
        "  명확하고 대표적이여야함\n",
        "  프롬프트 : 예시입력->예시출력->실제입력->출력요청\n",
        "  샘플예시기준\n",
        "    대표성 : 일반적인 사례를 포함(감성분석 : 강한긍정/부정)\n",
        "    명확성 : 모호하지않은 예시(좋아요 보다는 정말 훌륭한)\n",
        "    일관성 : 실제입력과 유사한 형식과 도메인\n",
        "```"
      ],
      "metadata": {
        "id": "Dhzvym_3oGdP"
      }
    },
    {
      "cell_type": "code",
      "source": [
        "  # zero-shot\n",
        "  #  f'''\n",
        "  #   다음 리뷰의 감정을 긍정 부정 중립으로 분류해줘:\n",
        "  #   리뷰 : {review}\n",
        "  #   감정 :\n",
        "  # '''\n",
        "\n",
        "  # one-shot\n",
        "  for review in reviews:\n",
        "    one_shot_sentiment_prompt =f'''\n",
        "    다음 리뷰의 감정을 긍정 부정 중립으로 분류해줘:\n",
        "\n",
        "    예시:\n",
        "    리뷰 : \"정말 훌륭한 제품입니다\"\n",
        "    감정 : 긍정\n",
        "\n",
        "    리뷰 : \"{review}\"\n",
        "    감정 :\n",
        "  '''\n",
        "    result = call_openai(one_shot_sentiment_prompt,temperature=0.3)\n",
        "    print(f\"review : {review}, sentiment : {result}\")"
      ],
      "metadata": {
        "colab": {
          "base_uri": "https://localhost:8080/"
        },
        "id": "cl5yAtGHkLKj",
        "outputId": "ee77149c-fd2d-47cf-da78-d4a54f623429"
      },
      "execution_count": null,
      "outputs": [
        {
          "output_type": "stream",
          "name": "stdout",
          "text": [
            "review : 이 제품은 정말 훌륭합니다. 적극 추천합니다., sentiment : 긍정\n",
            "review : 배송이 너무 느리고 품질도 별로에요, sentiment : 감정: 부정\n",
            "review : 가격대비 괜찮은 제품인거 같습니다, sentiment : 중립\n"
          ]
        }
      ]
    },
    {
      "cell_type": "code",
      "source": [
        "# one-shot  뉴스카테고리에 적용\n",
        "for news in headlines:\n",
        "  one_shot_newscategory_prompt = f'''\n",
        "    다음 뉴스의 헤드라인의 카테고리를 정치 경제 사회 생활/문화 IT/과학 세계 로 분류해줘\n",
        "\n",
        "    예시:\n",
        "    헤드라인 : \"네이버 지도로 부산 지하철 정보 실시간 확인\"\n",
        "    카테고리 : IT/과학\n",
        "\n",
        "    헤드라인 : \"{news}\"\n",
        "    카테고리 :\n",
        "  '''\n",
        "  result = call_openai(one_shot_newscategory_prompt)\n",
        "  print(f\"news : {news}, category : {result}\")"
      ],
      "metadata": {
        "colab": {
          "base_uri": "https://localhost:8080/"
        },
        "id": "5epLSOuVp6UH",
        "outputId": "61113b74-3074-47a4-b810-f97d581078d9"
      },
      "execution_count": null,
      "outputs": [
        {
          "output_type": "stream",
          "name": "stdout",
          "text": [
            "news : 국가안보실, 북 미사일 대응 안보상황 점검회의, category : 정치\n",
            "news : DL이앤씨, 울릉공항 건설 위한 마지막 케이슨 설치 완료, category : 경제\n",
            "news : 수도권 전세사기로 '88억 원' 가로챈 일당 송치, category : 사회\n"
          ]
        }
      ]
    },
    {
      "cell_type": "code",
      "source": [
        "# 네이버뉴스의 헤드라인기사를 one-shot 카테고리 분류\n",
        "# for headline in crawl_naver_headline():\n",
        "one_shot_newscategory_prompt_format = '''\n",
        "    다음 뉴스의 헤드라인의 카테고리를 정치 경제 사회 생활/문화 IT/과학 세계 로 분류해줘\n",
        "\n",
        "    예시:\n",
        "    헤드라인 : \"네이버 지도로 부산 지하철 정보 실시간 확인\"\n",
        "    카테고리 : IT/과학\n",
        "\n",
        "    헤드라인 : \"{}\"\n",
        "    카테고리 :\n",
        "  '''\n",
        "for news in crawl_naver_headline(20):\n",
        "  result = call_openai(one_shot_newscategory_prompt_format.format(news))\n",
        "  print(f\"news : {news}, category : {result}\")"
      ],
      "metadata": {
        "colab": {
          "base_uri": "https://localhost:8080/"
        },
        "id": "w8C8rEPEr5u5",
        "outputId": "4fdd0ff0-bc91-458f-a90b-f1ce52d010ee"
      },
      "execution_count": null,
      "outputs": [
        {
          "output_type": "stream",
          "name": "stdout",
          "text": [
            "news : '시공테크' 정치테마주 급등에 125억 챙기고 떠난 '슈퍼개미', category : 경제\n",
            "news : 삼엽충 보고 100주년…지질연, 삼엽충 백과사전 발간, category : IT/과학\n",
            "news : \"2년만, 50kg 감량\" 20대 女, 몰라보게 살 뺀 비결 들어보니…, category : 생활/문화\n",
            "news : 국힘 탈당 김상욱 \"이재명·이준석 만나고 싶다.. 참 민주보수 길 갈 것\", category : 정치\n",
            "news : 인디 K뷰티 1위…아누아, 전 세계 홀린 '원료 맛집', category : 생활/문화\n",
            "news : 카메라 앞에 쪼그려 앉아 봄을 캔다, category : 생활/문화\n",
            "news : 한덕수 \"김문수, 단일화 대안 안 갖고와…기본적 예의 없어\", category : 정치\n",
            "news : [속보] 김상욱, 국민의힘 탈당…\"기회 되면 이재명·이준석 만나고 싶다\", category : 정치\n",
            "news : 연예인 1인 법인은 절세 수단? 조세 회피!, category : 사회\n",
            "news : SKT \"결합상품 일부 가입자 이탈시 남은 가입자 할인 유지 여부 미정\", category : 경제\n",
            "news : 김문수 압박 수위↑…권영세 \"토론 못해도 단일화 조사 예정대로\", category : 정치\n",
            "news : 美 국채 매각 카드 만지작: 日 재무장관 '의도한 오락가락', category : 세계\n",
            "news : 한덕수 “김문수 기본 예의도 없어···약속 지키라고 오늘 얘기할 것”, category : 정치\n",
            "news : [속보] 한덕수 “단일화 약속 지키라 할 것…오후 4시에 김문수와 다시 회동”, category : 정치\n",
            "news : [현장영상+] 이재명 \"우리 경제 어려워...가장 중요한 일은 민생을 살리는 것\", category : 정치\n",
            "news : 한덕수 \"김문수, 즉각 단일화 약속 지켜라…오후 상경\", category : 정치\n",
            "news : Korean Ph.D. graduates head overseas on promise of all-round better conditions, category : 세계\n",
            "news : \"美·中과 경쟁 무의미\"…새 정부, 제조·인재·거버넌스로 AI 패권 도전해야, category : 정치\n",
            "news : \"유심 해킹 피해 점검해줄게\"…SKT 해킹 사태 틈탄 악성앱 피싱 기승, category : IT/과학\n",
            "news : 중도층은 조용히 지켜보고 있다[취재 후], category : 사회\n"
          ]
        }
      ]
    },
    {
      "cell_type": "code",
      "source": [
        "\"포멧스트링은 {} {} 안의 내용을 format 메소드를 통해 전달 받는다\".format(\"테스트\",\"테스트2\")"
      ],
      "metadata": {
        "colab": {
          "base_uri": "https://localhost:8080/",
          "height": 35
        },
        "id": "Dgs5wM1ytvij",
        "outputId": "4da08218-17b8-4b01-a0f7-a130c1276413"
      },
      "execution_count": null,
      "outputs": [
        {
          "output_type": "execute_result",
          "data": {
            "text/plain": [
              "'포멧스트링은 테스트 테스트2 안의 내용을 format 메소드를 통해 전달 받는다'"
            ],
            "application/vnd.google.colaboratory.intrinsic+json": {
              "type": "string"
            }
          },
          "metadata": {},
          "execution_count": 67
        }
      ]
    },
    {
      "cell_type": "markdown",
      "source": [
        "few-show\n",
        "```\n",
        "예러개의 예시를 제공,복잡한 작업에 효과적(키워드 추출,논리적 추론)\n",
        "토큰의효율성을 고려해서 3~5개로 제한\n",
        "Chain-of-Thought와 결합전략\n",
        "  CoT : 모델이 단계별로 사고과정을 설명하도록 유도\n",
        "    ex 키워드추출: 핵심명사식별->일반단어제외->키워드 목록작성\n",
        "    작업지시문에 \"단계별로 설명하라\" 추가\n",
        "```"
      ],
      "metadata": {
        "id": "x7ub71JrvYHv"
      }
    },
    {
      "cell_type": "code",
      "source": [
        "# few shot 감정 분석\n",
        "few_shot_sentiment_prompt = '''\n",
        "다음 리뷰의 감정을 긍정,부정, 또는 중립으로 분류해줘\n",
        "\n",
        "예시1:\n",
        "리뷰:\"정말 훌륭한 제품입니다. 재 구매의사 있습니다.\"\n",
        "감정:긍정\n",
        "\n",
        "예시2:\n",
        "리뷰:\"품질이 너무 안좋아요, 실망했어요\"\n",
        "감정:부정\n",
        "\n",
        "예시3:\n",
        "리뷰:\"보통이에요, 특별한 점은 없는거 같습니다\"\n",
        "감정:중립\n",
        "\n",
        "리뷰:\"{}\"\n",
        "감정:\n",
        "'''\n",
        "for review in reviews:\n",
        "  result = call_openai(few_shot_sentiment_prompt.format(review))\n",
        "  print(f\"review : {review}, sentiment : {result}\")"
      ],
      "metadata": {
        "colab": {
          "base_uri": "https://localhost:8080/"
        },
        "id": "cZG20mQvuWp9",
        "outputId": "189289d3-c00c-49e7-f818-401e0f3e449e"
      },
      "execution_count": null,
      "outputs": [
        {
          "output_type": "stream",
          "name": "stdout",
          "text": [
            "review : 이 제품은 정말 훌륭합니다. 적극 추천합니다., sentiment : 긍정\n",
            "review : 배송이 너무 느리고 품질도 별로에요, sentiment : 부정\n",
            "review : 가격대비 괜찮은 제품인거 같습니다, sentiment : 긍정\n"
          ]
        }
      ]
    },
    {
      "cell_type": "code",
      "source": [
        "# 키워드 추출문장\n",
        "sentences = '''\n",
        "지난 4월 한 달 동안 미 증시에 투자하는 서학개미들은 '관세전쟁' 완화 기대감으로 반도체 관련 상장지수펀드(ETF)에 대한 관심이 많았으나 레버리지와 인버스 상품이 동시에 상위권에 오르는 등 여전히 전망이 엇갈렸으며, 대표적인 선호주인 테슬라는 하락을 멈춤에 따라 다시 매수 상위권에 오른 것으로 분석됐다.\n",
        "\n",
        "이같은 내용은 카카오페이증권(대표 신호철)이 지난 4월 한 달간 자사 플랫폼을 통해 미국주식을 거래한 사용자들의 평균 수익률과 구매 금액 상위 종목을 분석한 결과다.\n",
        "\n",
        "8일 카카오페이증권에 따르면, 지난 4월 한 달 동안 반도체 관련 상장지수펀드(ETF)에 대한 관심이 급증한 것으로 나타났다. 특히 레버리지와 인버스 상품이 나란히 상위권에 올라 반도체 업종을 둘러싼 시장의 방향성 전망은 여전히 엇갈리는 양상을 보였다.\n",
        "\n",
        "먼저 4월 전체 사용자 평균 수익률은 -2.1%로, 전월(-2.8%) 대비 소폭 개선됐다. 미 증시의 변동성 확대 국면 속에서 사용자들은 고위험 상품을 적극 활용하며 대응 전략을 다변화하는 모습이었다는 분석이다.\n",
        "\n",
        "이 기간 동안 가장 많이 구매한 1위 종목은 ICE 반도체지수의 하루 수익률을 3배 추종하는 상품인 SOXL(디렉시온 데일리 세미컨덕터 불 3배 ETF)로, 전월 대비 6계단이나 상승했다.\n",
        "\n",
        "이는 최근 트럼프 대통령의 관세 정책으로 불거졌던 반도체 관세 우려가 일부 해소되면서 투자심리가 회복된 데 따른 것으로 풀이된다. 동시에 반도체 하락을 3배 따르는 SOXS(디렉시온 데일리 세미컨덕터 베어 3배 ETF)가 신규로 4위에 진입해 관련 업종에 대한 상반된 전망을 반영했다.\n",
        "\n",
        "한편 3월까지 이어졌던 테슬라의 하락세는 4월 들어 하락을 멈추고 반등하는 등 전환점을 맞았다. 떠라서 4월에는 테슬라(3위) 수익률이 9%로 반등했고, 테슬라 주가 2배 추종 ETF인 TSLL(2위)도 8% 수익률을 기록한 가운데 여전히 구매 순위 상위권을 유지했다.\n",
        "\n",
        "반면 테슬라 주가 하락 시 수익을 얻는 TSLQ(7위)와 TSLZ(10위)는 각각 마이너스 40% 수익률로 큰 손실을 보여, 3월의 ‘하방 포지션’ 전략이 녹록지 않았다는 분석이다.\n",
        "\n",
        "이외에도 8위에 오른 아메리칸 레블 홀딩스(AREB)는 한 달간 145%의 수익률을 기록해 급등주로 부상했으며, 나스닥 100 지수 수익률을 3배 추종하는 TQQQ가 신규로 5위를 차지했다.\n",
        "\n",
        "◆ 20~30대, 고위험 자산 비중 확대…40~50대도 ‘안정에서 공격’ 전략 변화\n",
        "\n",
        "한편 카카오페이증권은 20~30대 사용자들의 평균 수익률은 -2.4%로 전체 평균(-2.1%)보다 낮았다고 분석했다. 이들은 SOXL, SOXS, TSLL, TQQQ 등 고위험 파생형 상품에 공격적으로 투자하며 시장의 변동성을 활용한 운용 전략을 이어갔다.\n",
        "\n",
        "상대적으로 보수적인 투자 성향을 보여온 40~50대도 4월 들어 SOXL, SOXS, TQQQ 등 파생형 상품 구매를 늘리며 투자 전략에 변화를 꾀한 점은 주목할만한 변화다.\n",
        "\n",
        "물론 ▲테슬라(TSLA) ▲엔비디아(NVDA) ▲팔란티어(PLTR) ▲아이온큐(IONQ) 등 개별 기술주에 대한 지속적인 매수세 역시 유지했다. 해당 연령층의 평균 수익률은 -1.6%로 전 연령대 중 가장 선방한 것으로 나타났다.\n",
        "\n",
        "카카오페이증권은 “3월은 테슬라를 중심으로 기술주에 대한 상승·하락을 겨냥한 포지션이 주요 흐름이었다면, 4월은 반도체 섹터가 핵심 투자 대상으로 떠올라 ‘섹터 전환’이 나타났다”며 “SOXL과 SOXS가 동시에 상위권에 오른 점은 방향성에 대한 확신보다는 변동성 장세에서 분산 전략을 구사하는 투자자들이 늘고 있음을 보여준다”고 설명했다.\n",
        "\n",
        "카카오페이증권 사용자들의 4월 투자 동향에 대한 자세한 내용은 카카오페이앱 하단 메뉴 ‘증권’ 내 ‘발견’ 탭에서 제공되는 ‘무지 쓸모있는 투자 소식’을 통해 확인할 수 있다.\n",
        "\n",
        "'''\n",
        "# few-shot 키워드 추출 문장( CoT 포함)\n",
        "few_shot_keyword_prompt = '''\n",
        "다음 문장에서 주요  키워드를 추출해줘, 단계별 추론 과정을 설명한뒤 키워드를 추출해\n",
        "\n",
        "예시1:\n",
        "문장 : \"자동차는 첨단 안전 기능과 뛰어난 연비를 제공한다\"\n",
        "추론:\n",
        "1 핵심 명사 와 구체적 개념식별: 자동차, 안전 기능, 연비\n",
        "2 일반 단어 제외 : 제공한다, 뛰어난\n",
        "3 최종키워드 선택 : 자동차, 안전 기능, 연비\n",
        "\n",
        "예시2:\n",
        "문장 : \"인공지능 기술은 다양한 산업 분야에서 활용되고 있다\"\n",
        "추론:\n",
        "1 핵심 명사 와 구체적 개념식별: 인공지능 기술, 산업 분야\n",
        "2 일반 단어 제외 : 다양한, 활용되고 있다\n",
        "3 최종키워드 선택 : 인공지능 기술, 산업 분야\n",
        "\n",
        "예시3:\n",
        "문장 : \"스마트폰은 사용자 경험을 향상시키기 위한 여러 기능을 탑재하고 있다\"\n",
        "추론:\n",
        "1 핵심 명사 와 구체적 개념식별: 스마트폰, 사용자 경험, 기능\n",
        "2 일반 단어 제외 : 향상시키기 위한, 여러, 탑재하고 있다\n",
        "3 최종키워드 선택 : 스마트폰, 사용자 경험, 기능\n",
        "\n",
        "문장:\"{}\"\n",
        "추론:\n",
        "키워드:\n",
        "\n",
        "'''\n",
        "zero_shot_keyword_prompt = '''\n",
        "다음문장에서 키워드를 추출해 주세요\n",
        "\n",
        "문장 : {}\n",
        "\n",
        "키워드 :\n",
        "\n",
        "'''\n",
        "\n",
        "one_shot_keyword_prompt = '''\n",
        "다음문장에서 키워드를 추출해 주세요\n",
        "\n",
        "문장 : \"자동차는 첨단 안전 기능과 뛰어난 연비를 제공한다\"\n",
        "\n",
        "키워드 : 자동차, 안전 기능, 연비\n",
        "\n",
        "문장 : \"{}\"\n",
        "키워드 :\n",
        "'''\n"
      ],
      "metadata": {
        "id": "ftdqy3Trxz2M"
      },
      "execution_count": null,
      "outputs": []
    },
    {
      "cell_type": "code",
      "source": [
        "result = call_openai(zero_shot_keyword_prompt.format(sentences))\n",
        "for word in result.split(\",\"):\n",
        "  print(word)"
      ],
      "metadata": {
        "colab": {
          "base_uri": "https://localhost:8080/"
        },
        "collapsed": true,
        "id": "y6imItPx2xie",
        "outputId": "843a232f-d1b4-4dd7-a517-4c9d675cc434"
      },
      "execution_count": null,
      "outputs": [
        {
          "output_type": "stream",
          "name": "stdout",
          "text": [
            "미 증시\n",
            " 서학개미\n",
            " 반도체\n",
            " 상장지수펀드\n",
            " 레버리지\n",
            " 인버스\n",
            " 테슬라\n",
            " 수익률\n",
            " 사용자\n",
            " 플랫폼\n",
            " 미국주식\n",
            " ETF\n",
            " 변동성\n",
            " 고위험 상품\n",
            " 투자심리\n",
            " 트럼프 대통령\n",
            " 관세 정책\n",
            " 투자전략\n",
            " 관심\n",
            " 방향성\n",
            " 전망\n",
            " 투자자\n",
            " 섹터\n",
            " 변동성 장세\n",
            " 포지션\n",
            " 기술주\n",
            " 매수세\n",
            " 선방\n",
            " 섹터 전환\n",
            " 확신\n",
            " 분산 전략\n",
            " 투자 동향.\n"
          ]
        }
      ]
    },
    {
      "cell_type": "code",
      "source": [
        "result = call_openai(one_shot_keyword_prompt.format(sentences))\n",
        "for word in result.split(\",\"):\n",
        "  print(word)"
      ],
      "metadata": {
        "colab": {
          "base_uri": "https://localhost:8080/"
        },
        "collapsed": true,
        "id": "lQiNPw_w40Ba",
        "outputId": "3d42819b-d581-48cd-c9d1-754172321f49"
      },
      "execution_count": null,
      "outputs": [
        {
          "output_type": "stream",
          "name": "stdout",
          "text": [
            "미 증시\n",
            " 서학개미\n",
            " 반도체\n",
            " 레버리지\n",
            " 인버스\n",
            " 테슬라\n",
            " 카카오페이증권\n",
            " 미국주식\n",
            " ETF\n",
            " 주식\n",
            " 수익률\n",
            " 사용자\n",
            " 상품\n",
            " 투자\n",
            " 변동성\n",
            " 전망\n",
            " 관심\n",
            " 업종\n",
            " 관세\n",
            " 우려\n",
            " 투자심리\n",
            " 회복\n",
            " 트럼프 대통령\n",
            " 정책\n",
            " 전환점\n",
            " 주가\n",
            " 추종\n",
            " 손실\n",
            " 전략\n",
            " 급등주\n",
            " 고위험\n",
            " 자산\n",
            " 비중\n",
            " 공격\n",
            " 안정\n",
            " 고위험\n",
            " 파생형\n",
            " 운용\n",
            " 성향\n",
            " 변화\n",
            " 기술주\n",
            " 매수세\n",
            " 포지션\n",
            " 섹터\n",
            " 확신\n",
            " 분산\n",
            " 투자자\n",
            " 투자 동향\n",
            " 증권\n",
            " 발견\n",
            " 소식\n",
            " 확인\n"
          ]
        }
      ]
    },
    {
      "cell_type": "code",
      "source": [
        "for word in \"미 증시, 서학개미, 반도체 관련 상장지수펀드(ETF), 테슬라, 카카오페이증권, 수익률, 구매, 상위권, 레버리지, 인버스 상품, 고위험, 자산, 비중, 확대, 변화, 투자 동향, 테슬라, 엔비디아, 팔란티어, 아이온큐, 매수세, 카카오페이앱, 증권, 발견, 투자 소식\".split(\",\"):\n",
        "  print(word)"
      ],
      "metadata": {
        "colab": {
          "base_uri": "https://localhost:8080/"
        },
        "collapsed": true,
        "id": "zd5T8Sq73LQy",
        "outputId": "29bea324-4e2a-4a10-ada1-dc3938af6cf9"
      },
      "execution_count": null,
      "outputs": [
        {
          "output_type": "stream",
          "name": "stdout",
          "text": [
            "미 증시\n",
            " 서학개미\n",
            " 반도체 관련 상장지수펀드(ETF)\n",
            " 테슬라\n",
            " 카카오페이증권\n",
            " 수익률\n",
            " 구매\n",
            " 상위권\n",
            " 레버리지\n",
            " 인버스 상품\n",
            " 고위험\n",
            " 자산\n",
            " 비중\n",
            " 확대\n",
            " 변화\n",
            " 투자 동향\n",
            " 테슬라\n",
            " 엔비디아\n",
            " 팔란티어\n",
            " 아이온큐\n",
            " 매수세\n",
            " 카카오페이앱\n",
            " 증권\n",
            " 발견\n",
            " 투자 소식\n"
          ]
        }
      ]
    },
    {
      "cell_type": "code",
      "source": [
        "# 네이버 뉴스 헤드라인을 COT 를 적용 한 Few-shot 러닝으로 각 헤드라인의 키워드 추출\n",
        "for news in crawl_naver_headline():\n",
        "  result = call_openai(few_shot_keyword_prompt.format(news))\n",
        "  print(f\"news : {news} \\nkeyword : \\n{result} \\n\")"
      ],
      "metadata": {
        "colab": {
          "base_uri": "https://localhost:8080/"
        },
        "id": "amn4vY2q3imB",
        "outputId": "c561b7e0-8b07-46af-9e5f-e39adb67c042"
      },
      "execution_count": null,
      "outputs": [
        {
          "output_type": "stream",
          "name": "stdout",
          "text": [
            "news : 연예인 1인 법인은 절세 수단? 조세 회피! \n",
            "keyword : \n",
            "1. 핵심 명사와 구체적 개념식별: 연예인 1인 법인, 절세 수단, 조세 회피\n",
            "2. 일반 단어 제외:은, ?\n",
            "3. 최종키워드 선택: 연예인 1인 법인, 절세 수단, 조세 회피 \n",
            "\n",
            "news : 한덕수 “김문수와 오후 4시 단일화 재논의… 약속 지키라 할 것” \n",
            "keyword : \n",
            "1 핵심 명사 와 구체적 개념식별: 한덕수, 김문수, 오후 4시 단일화, 재논의, 약속\n",
            "2 일반 단어 제외 : 할 것\n",
            "3 최종키워드 선택 : 한덕수, 김문수, 오후 4시 단일화, 재논의, 약속 \n",
            "\n",
            "news : \"장관님 10명 안 가십니다\"…韓 경제 비상인데 '급' 따지며 회의 불참 \n",
            "keyword : \n",
            "1 핵심 명사 와 구체적 개념식별: 장관님, 10명, 회의, 불참, 경제 비상\n",
            "2 일반 단어 제외 : 가십니다, '급' 따지며\n",
            "3 최종키워드 선택 : 장관님, 10명, 회의, 불참, 경제 비상 \n",
            "\n"
          ]
        }
      ]
    },
    {
      "cell_type": "code",
      "source": [
        "# ngrok 설치\n",
        "!wget -q -c https://bin.equinox.io/c/bNyj1mQVY4c/ngrok-stable-linux-amd64.zip\n",
        "!unzip -o ngrok-stable-linux-amd64.zip\n",
        "\n",
        "# ngrok 토큰 등록\n",
        "# 토큰은 https://dashboard.ngrok.com 페이지에서 확인 가능\n",
        "!./ngrok config add-authtoken 2oN5uuM4xn4NWaWPPcCFTb2dHal_5HAvG4FgRDLaX6nRkyjHs"
      ],
      "metadata": {
        "colab": {
          "base_uri": "https://localhost:8080/"
        },
        "id": "hRtlDUvaBGBX",
        "outputId": "189c0779-e6d6-4ca3-a8f7-fa4c48b29008"
      },
      "execution_count": null,
      "outputs": [
        {
          "output_type": "stream",
          "name": "stdout",
          "text": [
            "Archive:  ngrok-stable-linux-amd64.zip\n",
            "  inflating: ngrok                   \n",
            "Authtoken saved to configuration file: /root/.config/ngrok/ngrok.yml\n"
          ]
        }
      ]
    },
    {
      "cell_type": "code",
      "source": [
        "# Flask + ngrok 자동 연결 코드\n",
        "from flask import Flask\n",
        "import threading\n",
        "import time\n",
        "import requests\n",
        "import json\n",
        "import subprocess\n",
        "\n",
        "\n",
        "\n",
        "# Flask 앱 정의\n",
        "app = Flask(__name__)\n",
        "\n",
        "@app.route('/')\n",
        "def index():\n",
        "    return \"Flask 서버가 ngrok을 통해 노출되었습니다!\"\n",
        "\n",
        "# Flask 백그라운드 실행\n",
        "def run_flask():\n",
        "    app.run(port=5000)\n",
        "\n",
        "threading.Thread(target=run_flask).start()  # 백그라운드 모드로 실행\n",
        "\n",
        "# ngrok 백그라운드 실행\n",
        "def run_ngrok():\n",
        "    # ngrok 실행\n",
        "    subprocess.Popen(['./ngrok', 'http', '5000'])\n",
        "    time.sleep(4)  # ngrok이 터널 열 시간을 기다림\n",
        "\n",
        "    # ngrok 터널 정보 얻기\n",
        "    try:\n",
        "        response = requests.get(\"http://localhost:4040/api/tunnels\")\n",
        "        tunnel_url = response.json()['tunnels'][0]['public_url']\n",
        "        print(f\"외부 접속 주소: {tunnel_url}\")\n",
        "    except Exception as e:\n",
        "        print(\"ngrok 주소를 가져오는 데 실패했습니다:\", e)\n",
        "\n",
        "run_ngrok()"
      ],
      "metadata": {
        "colab": {
          "base_uri": "https://localhost:8080/"
        },
        "collapsed": true,
        "id": "8M791d288gfq",
        "outputId": "1b968481-d760-4a8c-bbb8-03e5f4ac42bc"
      },
      "execution_count": null,
      "outputs": [
        {
          "output_type": "stream",
          "name": "stdout",
          "text": [
            " * Serving Flask app '__main__'\n",
            " * Debug mode: off\n"
          ]
        },
        {
          "output_type": "stream",
          "name": "stderr",
          "text": [
            "INFO:werkzeug:\u001b[31m\u001b[1mWARNING: This is a development server. Do not use it in a production deployment. Use a production WSGI server instead.\u001b[0m\n",
            " * Running on http://127.0.0.1:5000\n",
            "INFO:werkzeug:\u001b[33mPress CTRL+C to quit\u001b[0m\n"
          ]
        },
        {
          "output_type": "stream",
          "name": "stdout",
          "text": [
            "외부 접속 주소: https://0f41-34-80-233-189.ngrok-free.app\n"
          ]
        }
      ]
    },
    {
      "cell_type": "code",
      "source": [
        "# ngrok와 Flask 서버 종료\n",
        "!pkill -f flask\n",
        "!pkill -f ngrok"
      ],
      "metadata": {
        "id": "cRyBLHnS_VI4"
      },
      "execution_count": null,
      "outputs": []
    },
    {
      "cell_type": "code",
      "source": [
        "!ps -ax | grep ngrok  # 실행 중인 프로세스 확인\n",
        "# !kill -9 51169         # 필요 시 특정 프로세스 종료"
      ],
      "metadata": {
        "colab": {
          "base_uri": "https://localhost:8080/"
        },
        "id": "YcZlPBQ5BjLq",
        "outputId": "9cc61952-5e8c-4e0b-e6c3-07f01927c33e"
      },
      "execution_count": null,
      "outputs": [
        {
          "output_type": "stream",
          "name": "stdout",
          "text": [
            "   1397 ?        Sl     0:00 ./ngrok http 5000\n",
            "   1593 ?        S      0:00 /bin/bash -c ps -ax | grep ngrok  # 실행 중인 프로세스 확인\n",
            "   1595 ?        S      0:00 grep ngrok\n"
          ]
        }
      ]
    },
    {
      "cell_type": "markdown",
      "source": [
        "- 감성분석 파이프라인\n",
        "- FAQ 쳇봇\n",
        "- 뉴스요약 및 키워드 추출\n",
        "- 비용분석"
      ],
      "metadata": {
        "id": "WQHVn_t6TM0I"
      }
    },
    {
      "cell_type": "code",
      "source": [
        "import openai\n",
        "from openai import OpenAI\n",
        "import os\n",
        "import time\n",
        "OPENAI_API_KEY  = \"\"\n",
        "client = OpenAI(api_key=OPENAI_API_KEY)\n",
        "\n",
        "# openai api 호출 함수(비용추적 및 예외처리)\n",
        "def call_openai(prompt, model=\"gpt-3.5-turbo\", temperature=0.5, max_tokens=100,n=1):\n",
        "  try:\n",
        "    start_time = time.time()\n",
        "    response = client.chat.completions.create(\n",
        "      model=model,\n",
        "      messages=[\n",
        "        {\"role\": \"user\", \"content\": prompt}\n",
        "      ],\n",
        "      temperature=temperature,\n",
        "      max_tokens=max_tokens,\n",
        "      n=n\n",
        "    )\n",
        "    elapsed_time = time.time() - start_time\n",
        "    tokens_used = response.usage.total_tokens\n",
        "    return {\n",
        "        \"results\" : [choice.message.content for choice in response.choices],\n",
        "        \"tokens_used\" : tokens_used,\n",
        "        \"elapsed_time\" : elapsed_time\n",
        "    }\n",
        "  except Exception as e:\n",
        "    print(f'api 호출 오류 : {e}')\n",
        "    return {\n",
        "        \"results\" : [],\n",
        "        \"tokens_used\" : 0,\n",
        "        \"elapsed_time\" : 0\n",
        "    }"
      ],
      "metadata": {
        "id": "bHSiFJeHDFG_"
      },
      "execution_count": null,
      "outputs": []
    },
    {
      "cell_type": "code",
      "source": [
        "# 감성분석 프롬프트(few-shot)  3\n",
        "few_shot_sentiment_prompt = '''\n",
        "다음 리뷰의 감정을 긍정,부정, 또는 중립으로 분류해줘\n",
        "\n",
        "예시1:\n",
        "리뷰:\"정말 훌륭한 제품입니다. 재 구매의사 있습니다.\"\n",
        "감정:긍정\n",
        "\n",
        "예시2:\n",
        "리뷰:\"품질이 너무 안좋아요, 실망했어요\"\n",
        "감정:부정\n",
        "\n",
        "예시3:\n",
        "리뷰:\"보통이에요, 특별한 점은 없는거 같습니다\"\n",
        "감정:중립\n",
        "\n",
        "리뷰:\"{}\"\n",
        "감정:\n",
        "'''\n",
        "# FAQ 챗봇 프롬프트(few-shot)  2\n",
        "few_shot_faq_prompt = '''\n",
        "다음 고객의 문의에 대한 간결하고 친철하게 답변해줘\n",
        "\n",
        "예시 1:\n",
        "문의 : \"배송은 언제되나요?\"\n",
        "답변 : \"보통 주문후 영일일 기준 2~3일 내 배송됩니다\"\n",
        "\n",
        "예시 1:\n",
        "문의 : \"환불은 어떻게 하나요?\"\n",
        "답변 : \"카드는 영업일 기준 7일이내, 계좌이체는 영업일 기준 1일 이내 환불됩니다\"\n",
        "\n",
        "문의 : \"{}\"\n",
        "답변 :\n",
        "'''\n",
        "# 뉴스요약 및 키워드 추출 프롬프트(Chain-of-Thought  CoT) 1\n",
        "summary_keyword_prompt = '''\n",
        "다음 뉴스의 본문을 한 문장으로 요약하고, 주요 키워드를 단계별로 추출해줘\n",
        "\n",
        "예시:\n",
        "본문 : \"자동차는 첨단 안전기능과 뛰어난 연비를 제공한다\"\n",
        "추론:\n",
        "요약 : \"자동차는 안전기능과 연비를 개선한다\"\n",
        "1. 핵심 명사 식별 : 자동차, 안전 기능, 연비\n",
        "2. 일반 단어 제외 :제공한다 ,뛰어난\n",
        "3. 최종 키워드 선택 : 자동차, 안전 기능, 연비\n",
        "키워드 : 자동차, 안전 기능, 연비\n",
        "\n",
        "본문 : \"{}\"\n",
        "요약 :\n",
        "추론 :\n",
        "'''"
      ],
      "metadata": {
        "id": "oQTn5VBCVfDE"
      },
      "execution_count": null,
      "outputs": []
    },
    {
      "cell_type": "code",
      "source": [
        "# 감정분류용 리뷰\n",
        "reviews = [\n",
        "    '이 제품은 정말 훌륭합니다. 적극 추천합니다.',\n",
        "    '배송이 너무 느리고 품질도 별로에요',\n",
        "    '가격대비 괜찮은 제품인거 같습니다',\n",
        "]\n",
        "# 카테고리 분류용 뉴스 헤드라인\n",
        "headlines = [\n",
        "    '국가안보실, 북 미사일 대응 안보상황 점검회의',\n",
        "    'DL이앤씨, 울릉공항 건설 위한 마지막 케이슨 설치 완료',\n",
        "    \"수도권 전세사기로 '88억 원' 가로챈 일당 송치\",\n",
        "]"
      ],
      "metadata": {
        "id": "Dgzr5KSJX-vI"
      },
      "execution_count": null,
      "outputs": []
    },
    {
      "cell_type": "code",
      "source": [
        "# 감성분석\n",
        "total_tokens = 0\n",
        "for review in reviews:\n",
        "  result = call_openai(few_shot_sentiment_prompt.format(review),max_tokens=50)\n",
        "  print(f'리뷰 : {review}')\n",
        "  print(f'감정 : {result[\"results\"][0]}')\n",
        "  print(f'토큰사용량 : {result[\"tokens_used\"]},  응답시간:{result[\"elapsed_time\"]:.2f}')\n",
        "  total_tokens += result[\"tokens_used\"]\n",
        "print(f'총 토큰사용량 : {total_tokens}')"
      ],
      "metadata": {
        "colab": {
          "base_uri": "https://localhost:8080/"
        },
        "id": "ZxGm4O5QXkJC",
        "outputId": "2d0fc6e6-b54d-40be-faf9-bac54f2d98df"
      },
      "execution_count": null,
      "outputs": [
        {
          "output_type": "stream",
          "name": "stdout",
          "text": [
            "리뷰 : 이 제품은 정말 훌륭합니다. 적극 추천합니다.\n",
            "감정 : 긍정\n",
            "토큰사용량 : 207,  응답시간:0.53\n",
            "리뷰 : 배송이 너무 느리고 품질도 별로에요\n",
            "감정 : 부정\n",
            "토큰사용량 : 207,  응답시간:0.50\n",
            "리뷰 : 가격대비 괜찮은 제품인거 같습니다\n",
            "감정 : 긍정\n",
            "토큰사용량 : 202,  응답시간:1.08\n",
            "총 토큰사용량 : 616\n"
          ]
        }
      ]
    },
    {
      "cell_type": "code",
      "source": [
        "# FAQ 챗봇\n",
        "faq_lists = [\n",
        "    '배송이 얼마나 걸리나요?',\n",
        "    '반품 정책이 어떻게 되나요?'\n",
        "]\n",
        "for review in faq_lists:\n",
        "  result = call_openai(few_shot_faq_prompt.format(review),max_tokens=200)\n",
        "  print(f'문의 : {review}')\n",
        "  print(f'답변 : {result[\"results\"][0]}')\n",
        "  print(f'토큰사용량 : {result[\"tokens_used\"]},  응답시간:{result[\"elapsed_time\"]:.2f}')\n",
        "  total_tokens += result[\"tokens_used\"]\n",
        "print(f'총 토큰사용량 : {total_tokens}')\n"
      ],
      "metadata": {
        "colab": {
          "base_uri": "https://localhost:8080/"
        },
        "id": "wpiagOKfZBy_",
        "outputId": "656874c0-319b-4f1f-8e91-8d087ea58ce8"
      },
      "execution_count": null,
      "outputs": [
        {
          "output_type": "stream",
          "name": "stdout",
          "text": [
            "문의 : 배송이 얼마나 걸리나요?\n",
            "답변 : \"보통 주문 후 영업일 기준 2~3일 내에 배송됩니다.\"\n",
            "토큰사용량 : 223,  응답시간:0.60\n",
            "문의 : 반품 정책이 어떻게 되나요?\n",
            "답변 : \"제품 수령 후 7일 이내에 반품이 가능하며, 제품이 미사용 상태여야 합니다. 자세한 반품 방법은 고객센터로 문의해주세요.\"\n",
            "토큰사용량 : 265,  응답시간:1.07\n",
            "총 토큰사용량 : 1971\n"
          ]
        }
      ]
    },
    {
      "cell_type": "code",
      "source": [
        "# 뉴스 요약 및 키워드 추출\n",
        "news_lists = [\n",
        "    '김 후보는 이날 오전 여의도 대선 캠프에서 연 긴급 기자회견에서 당 지도부를 향해 \"이 시간 이후 강제 후보 단일화라는 미명으로 정당한 대통령 후보인 저 김문수를 끌어내리려는 작업에서 손 떼라\"며 \"강압적 단일화 요구를 중단하라\"고 말했다',\n",
        "    '합동참모본부는 \"오늘 오전 8시 10분부터 9시 20분까지 북한 원산 일대에서 동해상으로 발사된 다양한 종류의 단거리 탄도미사일 수발을 포착했다\"며 \"북한의 미사일은 최대 약 800km 비행 후 동해상에 탄착했다\"고 밝혔다'\n",
        "]\n",
        "for review in news_lists:\n",
        "  result = call_openai(summary_keyword_prompt.format(review),max_tokens=1024)\n",
        "  print(f'본문 : {review}')\n",
        "  print(f'결과 : {result[\"results\"][0]}')\n",
        "  print(f'토큰사용량 : {result[\"tokens_used\"]},  응답시간:{result[\"elapsed_time\"]:.2f} \\n')\n",
        "  total_tokens += result[\"tokens_used\"]\n",
        "print(f'총 토큰사용량 : {total_tokens}')"
      ],
      "metadata": {
        "colab": {
          "base_uri": "https://localhost:8080/"
        },
        "id": "gO6_1NDbaFfn",
        "outputId": "98856c31-6e3b-440e-a21d-fad7cfbe0a8f"
      },
      "execution_count": null,
      "outputs": [
        {
          "output_type": "stream",
          "name": "stdout",
          "text": [
            "본문 : 김 후보는 이날 오전 여의도 대선 캠프에서 연 긴급 기자회견에서 당 지도부를 향해 \"이 시간 이후 강제 후보 단일화라는 미명으로 정당한 대통령 후보인 저 김문수를 끌어내리려는 작업에서 손 떼라\"며 \"강압적 단일화 요구를 중단하라\"고 말했다\n",
            "결과 : 요약 : 김 후보가 강압적 단일화 요구를 중단하라고 지도부에 촉구했다.\n",
            "1. 핵심 명사 식별 : 김 후보, 여의도 대선 캠프, 기자회견, 당 지도부, 대통령 후보, 김문수\n",
            "2. 일반 단어 제외 : 이날, 오전, 연, 긴급, 이, 시간, 이후, 강제, 단일화, 미명으로, 정당한, 끌어내리려는, 작업에서, 손, 떼라, 강압적, 중단하라, 말했다\n",
            "3. 최종 키워드 선택 : 김 후보, 여의도 대선 캠프, 기자회견, 당 지도부, 대통령 후보, 김문수\n",
            "토큰사용량 : 604,  응답시간:2.90 \n",
            "\n",
            "본문 : 합동참모본부는 \"오늘 오전 8시 10분부터 9시 20분까지 북한 원산 일대에서 동해상으로 발사된 다양한 종류의 단거리 탄도미사일 수발을 포착했다\"며 \"북한의 미사일은 최대 약 800km 비행 후 동해상에 탄착했다\"고 밝혔다\n",
            "결과 : 요약 : \"합참은 북한이 다양한 종류의 단거리 탄도미사일을 동해상으로 발사했다고 발표했다\"\n",
            "1. 핵심 명사 식별 : 합동참모본부, 북한, 탄도미사일, 동해상\n",
            "2. 일반 단어 제외 : 오늘, 오전, 발사된, 다양한, 단거리, 최대, 약, 비행, 탄착했다, 밝혔다\n",
            "3. 최종 키워드 선택 : 합동참모본부, 북한, 탄도미사일, 동해상\n",
            "키워드 : 합동참모본부, 북한, 탄도미사일, 동해상\n",
            "토큰사용량 : 568,  응답시간:2.76 \n",
            "\n",
            "총 토큰사용량 : 6539\n"
          ]
        }
      ]
    },
    {
      "cell_type": "code",
      "source": [],
      "metadata": {
        "id": "_yG_PyzmiSO3"
      },
      "execution_count": null,
      "outputs": []
    },
    {
      "cell_type": "code",
      "source": [
        "# ngrok 설치\n",
        "!wget -q -c https://bin.equinox.io/c/bNyj1mQVY4c/ngrok-stable-linux-amd64.zip\n",
        "!unzip -o ngrok-stable-linux-amd64.zip\n",
        "\n",
        "# ngrok 토큰 등록\n",
        "# 토큰은 https://dashboard.ngrok.com 페이지에서 확인 가능\n",
        "!./ngrok config add-authtoken ...\n",
        "\n",
        "\n",
        "# Flask + ngrok 자동 연결 코드\n",
        "from flask import Flask\n",
        "import threading\n",
        "import time\n",
        "import requests\n",
        "import json\n",
        "import subprocess\n",
        "\n",
        "\n",
        "import openai\n",
        "from openai import OpenAI\n",
        "import os\n",
        "import time\n",
        "OPENAI_API_KEY  = \"\"\n",
        "client = OpenAI(api_key=OPENAI_API_KEY)\n",
        "\n",
        "# openai api 호출 함수(비용추적 및 예외처리)\n",
        "def call_openai(prompt, model=\"gpt-3.5-turbo\", temperature=0.5, max_tokens=100,n=1):\n",
        "  try:\n",
        "    start_time = time.time()\n",
        "    response = client.chat.completions.create(\n",
        "      model=model,\n",
        "      messages=[\n",
        "        {\"role\": \"user\", \"content\": prompt}\n",
        "      ],\n",
        "      temperature=temperature,\n",
        "      max_tokens=max_tokens,\n",
        "      n=n\n",
        "    )\n",
        "    elapsed_time = time.time() - start_time\n",
        "    tokens_used = response.usage.total_tokens\n",
        "    return {\n",
        "        \"results\" : [choice.message.content for choice in response.choices],\n",
        "        \"tokens_used\" : tokens_used,\n",
        "        \"elapsed_time\" : elapsed_time\n",
        "    }\n",
        "  except Exception as e:\n",
        "    print(f'api 호출 오류 : {e}')\n",
        "    return {\n",
        "        \"results\" : [],\n",
        "        \"tokens_used\" : 0,\n",
        "        \"elapsed_time\" : 0\n",
        "    }\n",
        "\n",
        "# 뉴스요약 및 키워드 추출 프롬프트(Chain-of-Thought  CoT) 1\n",
        "summary_keyword_prompt = '''\n",
        "다음 뉴스의 본문을 한 문장으로 요약하고, 주요 키워드를 단계별로 추출해줘\n",
        "\n",
        "예시:\n",
        "본문 : \"자동차는 첨단 안전기능과 뛰어난 연비를 제공한다\"\n",
        "추론:\n",
        "요약 : \"자동차는 안전기능과 연비를 개선한다\"\n",
        "1. 핵심 명사 식별 : 자동차, 안전 기능, 연비\n",
        "2. 일반 단어 제외 :제공한다 ,뛰어난\n",
        "3. 최종 키워드 선택 : 자동차, 안전 기능, 연비\n",
        "키워드 : 자동차, 안전 기능, 연비\n",
        "\n",
        "본문 : \"{}\"\n",
        "요약 :\n",
        "추론 :\n",
        "'''\n",
        "\n",
        "# 뉴스 요약 및 키워드 추출\n",
        "news_lists = [\n",
        "    '김 후보는 이날 오전 여의도 대선 캠프에서 연 긴급 기자회견에서 당 지도부를 향해 \"이 시간 이후 강제 후보 단일화라는 미명으로 정당한 대통령 후보인 저 김문수를 끌어내리려는 작업에서 손 떼라\"며 \"강압적 단일화 요구를 중단하라\"고 말했다',\n",
        "    '합동참모본부는 \"오늘 오전 8시 10분부터 9시 20분까지 북한 원산 일대에서 동해상으로 발사된 다양한 종류의 단거리 탄도미사일 수발을 포착했다\"며 \"북한의 미사일은 최대 약 800km 비행 후 동해상에 탄착했다\"고 밝혔다'\n",
        "]\n",
        "def getApiResult():\n",
        "  total_contents = \"\"\n",
        "  total_tokens = 0\n",
        "  for review in news_lists:\n",
        "    result = call_openai(summary_keyword_prompt.format(review),max_tokens=1024)\n",
        "    total_contents += f'본문 : <strong>{review}</strong> <br>'\n",
        "    total_contents += f'결과 : <br> {result[\"results\"][0]} <br>'\n",
        "    total_contents += f'토큰사용량 : {result[\"tokens_used\"]},  응답시간:{result[\"elapsed_time\"]:.2f} <br>'\n",
        "    total_tokens += result[\"tokens_used\"]\n",
        "  total_contents += f'총 토큰사용량 : {total_tokens} <br>'\n",
        "  return total_contents\n",
        "\n",
        "with open(\"result.html\", 'w') as f:\n",
        "  f.write(getApiResult())\n",
        "# # Flask 앱 정의\n",
        "# app = Flask(__name__)\n",
        "\n",
        "# @app.route('/')\n",
        "# def index():\n",
        "#     # return \"Flask 서버가 ngrok을 통해 노출되었습니다!\"\n",
        "#     return getApiResult()\n",
        "\n",
        "# # Flask 백그라운드 실행\n",
        "# def run_flask():\n",
        "#     app.run(port=5000)\n",
        "\n",
        "# threading.Thread(target=run_flask).start()  # 백그라운드 모드로 실행\n",
        "\n",
        "# # ngrok 백그라운드 실행\n",
        "# def run_ngrok():\n",
        "#     # ngrok 실행\n",
        "#     subprocess.Popen(['./ngrok', 'http', '5000'])\n",
        "#     time.sleep(4)  # ngrok이 터널 열 시간을 기다림\n",
        "\n",
        "#     # ngrok 터널 정보 얻기\n",
        "#     try:\n",
        "#         response = requests.get(\"http://localhost:4040/api/tunnels\")\n",
        "#         tunnel_url = response.json()['tunnels'][0]['public_url']\n",
        "#         print(f\"외부 접속 주소: {tunnel_url}\")\n",
        "#     except Exception as e:\n",
        "#         print(\"ngrok 주소를 가져오는 데 실패했습니다:\", e)\n",
        "\n",
        "# run_ngrok()"
      ],
      "metadata": {
        "colab": {
          "base_uri": "https://localhost:8080/"
        },
        "id": "tUgwOGICdXeX",
        "outputId": "e524050a-634e-45f1-e17b-4edcee4acd62"
      },
      "execution_count": null,
      "outputs": [
        {
          "output_type": "stream",
          "name": "stdout",
          "text": [
            "Archive:  ngrok-stable-linux-amd64.zip\n",
            "  inflating: ngrok                   \n",
            "Authtoken saved to configuration file: /root/.config/ngrok/ngrok.yml\n"
          ]
        }
      ]
    },
    {
      "cell_type": "markdown",
      "source": [
        "Fine-Tuning\n",
        "```\n",
        "모델에 추가 학습데이터를 제공해서 특정작업에 최적화\n",
        "제한사항:\n",
        "  데이터 품질 중요 : 최소한 50개이상의 고품질 데이터\n",
        "  비용증가\n",
        "데이터포멧\n",
        "  jsonl 형식 {\"messages\" :[{\"role\":\"user\", \"content\":\"입력\"},{\"role\":\"assistant\",\"content\":\"출력\"}]}  \n",
        "한글전처리\n",
        "  띄어쓰기 정제: 배송느리-> 배송 느림\n",
        "  도메인용어 : AI->\"인공지능\" 통일\n",
        "  데이터 정제 : 비속어,오타 제거\n",
        "프로세스:\n",
        "  데이터 업로드 : openai로 jsonl 파일 업로드\n",
        "  fine-tuning job 생성 : ...... jobs.create\n",
        "  모델 : fine_tuning 모델 id로 api호출\n",
        "  관리 : 결과를 base64 인코딩되어서 출력 - openai 디코더를 이용해서 복원      \n",
        "```"
      ],
      "metadata": {
        "id": "65BLFFa-l1a0"
      }
    },
    {
      "cell_type": "code",
      "source": [
        "# 감정 분석용 데이터 10개\n",
        "training_data = [\n",
        "{\"messages\":[{\"role\":\"user\",\"content\":\"배송도 빠르고 제품 상태도 아주 좋아요!\"},{\"role\":\"assistant\",\"content\":\"긍정\"}]}\n",
        ",{\"messages\":[{\"role\":\"user\",\"content\":\"정말 기대 이상이에요. 다음에도 꼭 재구매할게요.\"},{\"role\":\"assistant\",\"content\":\"긍정\"}]}\n",
        ",{\"messages\":[{\"role\":\"user\",\"content\":\"디자인이 예쁘고 사용하기도 편하네요.\"},{\"role\":\"assistant\",\"content\":\"긍정\"}]}\n",
        ",{\"messages\":[{\"role\":\"user\",\"content\":\"처음 사용해보는데 만족도가 높아요.\"},{\"role\":\"assistant\",\"content\":\"긍정\"}]}\n",
        ",{\"messages\":[{\"role\":\"user\",\"content\":\"가격 대비 성능이 뛰어납니다.\"},{\"role\":\"assistant\",\"content\":\"긍정\"}]}\n",
        "\n",
        ",{\"messages\":[{\"role\":\"user\",\"content\":\"작동이 안 돼서 너무 화가 납니다.\"},{\"role\":\"assistant\",\"content\":\"부정\"}]}\n",
        ",{\"messages\":[{\"role\":\"user\",\"content\":\"광고랑 다르게 품질이 별로였어요.\"},{\"role\":\"assistant\",\"content\":\"부정\"}]}\n",
        ",{\"messages\":[{\"role\":\"user\",\"content\":\"고장이 자주 나서 불편합니다.\"},{\"role\":\"assistant\",\"content\":\"부정\"}]}\n",
        ",{\"messages\":[{\"role\":\"user\",\"content\":\"배송이 느리고 포장도 부실했어요.\"},{\"role\":\"assistant\",\"content\":\"부정\"}]}\n",
        ",{\"messages\":[{\"role\":\"user\",\"content\":\"기대한 만큼의 성능이 아니네요.\"},{\"role\":\"assistant\",\"content\":\"부정\"}]}\n",
        "\n",
        ",{\"messages\":[{\"role\":\"user\",\"content\":\"기능은 많은데 아직 다 써보진 않았어요.\"},{\"role\":\"assistant\",\"content\":\"중립\"}]}\n",
        ",{\"messages\":[{\"role\":\"user\",\"content\":\"사용 중 특별한 문제는 없었어요.\"},{\"role\":\"assistant\",\"content\":\"중립\"}]}\n",
        ",{\"messages\":[{\"role\":\"user\",\"content\":\"평범한 제품입니다. 특별히 좋지도 나쁘지도 않아요.\"},{\"role\":\"assistant\",\"content\":\"중립\"}]}\n",
        ",{\"messages\":[{\"role\":\"user\",\"content\":\"가격도 적당하고 일반적인 성능이에요.\"},{\"role\":\"assistant\",\"content\":\"중립\"}]}\n",
        ",{\"messages\":[{\"role\":\"user\",\"content\":\"그럭저럭 쓸만합니다. 무난한 제품이에요.\"},{\"role\":\"assistant\",\"content\":\"중립\"}]}\n",
        "]\n",
        "# 필요한 라이브러리 import\n",
        "from openai import OpenAI\n",
        "import os\n",
        "import time\n",
        "import json\n",
        "# open ai 셋팅\n",
        "OPENAI_API_KEY  = \"\"\n",
        "client = OpenAI(api_key=OPENAI_API_KEY)\n",
        "\n",
        "# json 파일 생성\n",
        "def create_jsonl_file(data,filename='training_data.jsonl'):\n",
        "  with open(filename, \"w\", encoding='utf-8') as f:\n",
        "    for item in training_data:\n",
        "      json_line = json.dumps(item,ensure_ascii=False)\n",
        "      f.write(json_line + \"\\n\")\n",
        "  return filename\n",
        "\n",
        "# 파인튜닝데이터 업로드\n",
        "def upload_file(filename):\n",
        "  with open(filename, \"rb\") as f:\n",
        "    turning_data = client.files.create(\n",
        "        file=f,purpose=\"fine-tune\"\n",
        "    )\n",
        "  return turning_data.id\n",
        "# 파인튜닝 작업 생성\n",
        "def create_fine_tuning_job(file_id, model = 'gpt-3.5-turbo'):\n",
        "  job = client.fine_tuning.jobs.create(\n",
        "      training_file=file_id,\n",
        "      model=model\n",
        "  )\n",
        "  return job.id\n",
        "# 파인튜닝 상태 확인\n",
        "def check_fine_tuning_status(job_id):\n",
        "  status = client.fine_tuning.jobs.retrieve(job_id)\n",
        "  return status.status,status.fine_tuned_model\n",
        "\n",
        "# openai api 호출 함수(비용추적 및 예외처리)\n",
        "def call_openai(prompt, model=\"gpt-3.5-turbo\", temperature=0.3, max_tokens=50,n=1):\n",
        "  try:\n",
        "    start_time = time.time()\n",
        "    response = client.chat.completions.create(\n",
        "      model=model,\n",
        "      messages=[\n",
        "        {\"role\": \"user\", \"content\": prompt}\n",
        "      ],\n",
        "      temperature=temperature,\n",
        "      max_tokens=max_tokens,\n",
        "      n=n\n",
        "    )\n",
        "    elapsed_time = time.time() - start_time\n",
        "    tokens_used = response.usage.total_tokens\n",
        "    return {\n",
        "        \"results\" : [choice.message.content for choice in response.choices],\n",
        "        \"tokens_used\" : tokens_used,\n",
        "        \"elapsed_time\" : elapsed_time\n",
        "    }\n",
        "  except Exception as e:\n",
        "    print(f'api 호출 오류 : {e}')\n",
        "    return {\n",
        "        \"results\" : [],\n",
        "        \"tokens_used\" : 0,\n",
        "        \"elapsed_time\" : 0\n",
        "    }\n"
      ],
      "metadata": {
        "id": "CumdPtHghwkv"
      },
      "execution_count": null,
      "outputs": []
    },
    {
      "cell_type": "code",
      "source": [
        "# 파일생성 및 업로드\n",
        "jsoned_file = create_jsonl_file(training_data,'20250508.jsonl')\n",
        "file_id = upload_file(jsoned_file)\n",
        "print(f'file id : {file_id}')\n",
        "# 파인튜닝 작업(job 생성)\n",
        "job_id = create_fine_tuning_job(file_id)\n",
        "print(f'job id : {job_id}')"
      ],
      "metadata": {
        "colab": {
          "base_uri": "https://localhost:8080/"
        },
        "id": "YstyecVAqDac",
        "outputId": "f1fbe073-37f4-4ff7-f8c5-2889a408819f"
      },
      "execution_count": null,
      "outputs": [
        {
          "output_type": "stream",
          "name": "stdout",
          "text": [
            "file id : file-YGLEqSTfNWqAF77oBikh8Q\n",
            "job id : ftjob-s4FOWRKc0zc0IHMZLGVUAa0f\n"
          ]
        }
      ]
    },
    {
      "cell_type": "code",
      "source": [
        "# 상태확인\n",
        "status,fine_tuned_model = check_fine_tuning_status(job_id)\n",
        "print(f'status : {status}, model : {fine_tuned_model}')"
      ],
      "metadata": {
        "colab": {
          "base_uri": "https://localhost:8080/"
        },
        "id": "QpwKPQLZx6Ax",
        "outputId": "49b657a7-fa75-4ba5-89ed-e39766294af1"
      },
      "execution_count": null,
      "outputs": [
        {
          "output_type": "stream",
          "name": "stdout",
          "text": [
            "status : succeeded, model : ft:gpt-3.5-turbo-0125:personal::BUpzdfgm\n"
          ]
        }
      ]
    },
    {
      "cell_type": "code",
      "source": [
        "# 테스트 데이터\n",
        "test_reviews = [\n",
        "    \"이 영화는 엄복동 이라는 영화의 평균 평점과 같았다\"\n",
        "]\n",
        "# 감성분석\n",
        "sentiment_prompt = '''\n",
        "리뷰 : \"{}\"\n",
        "감정 :\n",
        "'''\n",
        "for review in test_reviews:\n",
        "  result = call_openai(sentiment_prompt.format(review),max_tokens=20,model=fine_tuned_model)\n",
        "  print(f'리뷰 : {review}')\n",
        "  print(f'감정 : {result}')"
      ],
      "metadata": {
        "colab": {
          "base_uri": "https://localhost:8080/"
        },
        "id": "QulqZQ2CyEDs",
        "outputId": "88b450e1-6e0c-4503-d76f-f582f5701535"
      },
      "execution_count": null,
      "outputs": [
        {
          "output_type": "stream",
          "name": "stdout",
          "text": [
            "리뷰 : 이 영화는 엄복동 이라는 영화의 평균 평점과 같았다\n",
            "감정 : {'results': ['중립'], 'tokens_used': 53, 'elapsed_time': 100.23055410385132}\n"
          ]
        }
      ]
    },
    {
      "cell_type": "markdown",
      "source": [
        "쳇봇\n",
        "```\n",
        "유형\n",
        "  FAQ 쳇봇\n",
        "  대화형 쳇봇\n",
        "프롬프트 설계\n",
        "  few-shot : 문의-응답쌍 제공\n",
        "  Role-base : 역활 부여(친절한 고객 상담사)\n",
        "  한글 최적화 : 한국어 뉘앙스, 존댓말/반말 조정\n",
        "최적화\n",
        "  간결한 프롬프트:토큰소모 최소화\n",
        "  맥락유지 : 대화 이력 포함(ex message 리스트)    \n",
        "성능평가\n",
        "  평가기준\n",
        "    정확도 : 응답이 문의에 적합한지\n",
        "    자연스러움 : 한국어 표현의 유연성\n",
        "    응답시간 : API호출 속도\n",
        "사용자 경험\n",
        "  친절한 톤: 존댓말 공감표현\n",
        "  오류 처리:모호한 문장에 기본응답제공\n",
        "개선\n",
        "  추가 fine-tuning:낮은 품질 응답 수정\n",
        "  프롬프트조정 : 특정 문의 유형 강화    \n",
        "```"
      ],
      "metadata": {
        "id": "IkiKgKxO6ZJe"
      }
    },
    {
      "cell_type": "code",
      "source": [
        "# fine-tuning용 FAQ 데이터 10\n",
        "training_data = [\n",
        "{\"messages\":[{\"role\":\"user\",\"content\":\"배송은 보통 얼마나 걸리나요?\"},{\"role\":\"assistant\",\"content\":\"일반적으로 배송은 2~3일 정도 소요됩니다. 지역에 따라 다를 수 있습니다.\"}]}\n",
        ",{\"messages\":[{\"role\":\"user\",\"content\":\"반품은 어떻게 신청하나요?\"},{\"role\":\"assistant\",\"content\":\"마이페이지 > 주문 내역에서 해당 상품을 선택하고 반품 신청 버튼을 눌러주세요.\"}]}\n",
        ",{\"messages\":[{\"role\":\"user\",\"content\":\"회원가입은 무료인가요?\"},{\"role\":\"assistant\",\"content\":\"네, 회원가입은 무료이며 누구나 가입하실 수 있습니다.\"}]}\n",
        ",{\"messages\":[{\"role\":\"user\",\"content\":\"고객센터 운영 시간은 어떻게 되나요?\"},{\"role\":\"assistant\",\"content\":\"고객센터는 평일 오전 9시부터 오후 6시까지 운영됩니다.\"}]}\n",
        ",{\"messages\":[{\"role\":\"user\",\"content\":\"현금영수증 발급 가능한가요?\"},{\"role\":\"assistant\",\"content\":\"네, 결제 시 현금영수증 발급을 선택하시면 자동으로 발급됩니다.\"}]}\n",
        ",{\"messages\":[{\"role\":\"user\",\"content\":\"비밀번호를 잊어버렸어요. 어떻게 해야 하나요?\"},{\"role\":\"assistant\",\"content\":\"로그인 화면에서 '비밀번호 찾기'를 클릭하여 안내에 따라 재설정하실 수 있습니다.\"}]}\n",
        ",{\"messages\":[{\"role\":\"user\",\"content\":\"제품 보증 기간은 얼마나 되나요?\"},{\"role\":\"assistant\",\"content\":\"제품에 따라 다르지만 일반적으로 1년의 무상 보증 기간이 제공됩니다.\"}]}\n",
        ",{\"messages\":[{\"role\":\"user\",\"content\":\"쿠폰은 어디서 확인할 수 있나요?\"},{\"role\":\"assistant\",\"content\":\"마이페이지 > 쿠폰함에서 보유하신 쿠폰을 확인하실 수 있습니다.\"}]}\n",
        ",{\"messages\":[{\"role\":\"user\",\"content\":\"배송지를 변경하고 싶어요.\"},{\"role\":\"assistant\",\"content\":\"배송 준비 전이라면 마이페이지에서 배송지 변경이 가능합니다. 준비 완료 이후에는 변경이 어려울 수 있습니다.\"}]}\n",
        ",{\"messages\":[{\"role\":\"user\",\"content\":\"해외에서도 주문할 수 있나요?\"},{\"role\":\"assistant\",\"content\":\"현재는 국내 배송만 지원하고 있으며, 해외 배송은 준비 중입니다.\"}]}\n",
        "]\n",
        "# 테스트 데이터\n",
        "test_inputs = [\n",
        "    '배송이 언제 도착하나요?'\n",
        "    ,'교환은 어떻게  하나요?'\n",
        "    ,'환불은 어떻게 하면 되나요?'\n",
        "    ,'상품이 파손되어 도착했어요 이럴때는 어떻게 하나요?'\n",
        "]\n",
        "# 모델은  gpt-4.1-mini-2025-04-14\n",
        "# 파일 생성\n",
        "# 파일 업로드\n",
        "# 파인튜닝(job id)\n",
        "# 상태확인후 successed 가 되면\n",
        "# 모델 불러와서 test_inputs 실행\n",
        "\n",
        "# openai api 호출 함수(비용추적 및 예외처리)\n",
        "def call_openai(prompt, model=\"gpt-3.5-turbo\", temperature=0.3, max_tokens=50,n=1):\n",
        "  try:\n",
        "    start_time = time.time()\n",
        "    response = client.chat.completions.create(\n",
        "      model=model,\n",
        "      messages=[\n",
        "        {\"role\": \"system\", \"content\": \"너는 친절한 쇼핑몰 고객 지원 챗봇이야\"},\n",
        "        {\"role\": \"user\", \"content\": prompt}\n",
        "      ],\n",
        "      temperature=temperature,\n",
        "      max_tokens=max_tokens,\n",
        "      n=n\n",
        "    )\n",
        "    elapsed_time = time.time() - start_time\n",
        "    tokens_used = response.usage.total_tokens\n",
        "    return {\n",
        "        \"results\" : [choice.message.content for choice in response.choices],\n",
        "        \"tokens_used\" : tokens_used,\n",
        "        \"elapsed_time\" : elapsed_time\n",
        "    }\n",
        "  except Exception as e:\n",
        "    print(f'api 호출 오류 : {e}')\n",
        "    return {\n",
        "        \"results\" : [],\n",
        "        \"tokens_used\" : 0,\n",
        "        \"elapsed_time\" : 0\n",
        "    }\n",
        "\n",
        "\n",
        "# 파일생성 및 업로드\n",
        "jsoned_file = create_jsonl_file(training_data,'20250508_SH_FAQ.jsonl')\n",
        "file_id = upload_file(jsoned_file)\n",
        "print(f'file id : {file_id}')\n",
        "# 파인튜닝 작업(job 생성)\n",
        "job_id = create_fine_tuning_job(file_id,model='gpt-4.1-mini-2025-04-14')\n",
        "print(f'job id : {job_id}')"
      ],
      "metadata": {
        "colab": {
          "base_uri": "https://localhost:8080/"
        },
        "id": "A9QezgNa0WfS",
        "outputId": "11fe4d0e-293a-4b45-b740-ea1941cfb026"
      },
      "execution_count": null,
      "outputs": [
        {
          "output_type": "stream",
          "name": "stdout",
          "text": [
            "file id : file-QU4ttBzaqSBkFpbnxSi3HK\n",
            "job id : ftjob-LQQI3kmIbusPxAohbLVf49gr\n"
          ]
        }
      ]
    },
    {
      "cell_type": "code",
      "source": [
        "# 상태확인\n",
        "status,fine_tuned_model_sh_faq = check_fine_tuning_status(job_id)\n",
        "print(f'status : {status}, model : {fine_tuned_model_sh_faq}')\n",
        "\n",
        "# 감성분석\n",
        "sentiment_prompt = '''\n",
        "문의 : \"{}\"\n",
        "답변 :\n",
        "'''\n",
        "if fine_tuned_model_sh_faq != None:\n",
        "  for review in test_inputs:\n",
        "    result = call_openai(sentiment_prompt.format(review),max_tokens=2048,model=fine_tuned_model_sh_faq)\n",
        "    print(f'문의 : {review}')\n",
        "    print(f'답변 : {result[\"results\"][0]}')\n",
        "    print(f'토큰사용량 : {result[\"tokens_used\"]}')\n",
        "    print(f'처리속도 : {result[\"elapsed_time\"]}')"
      ],
      "metadata": {
        "colab": {
          "base_uri": "https://localhost:8080/"
        },
        "id": "PQ-FgH1i87ej",
        "outputId": "fd175a85-a4f3-46de-93c6-f2339b65323a"
      },
      "execution_count": null,
      "outputs": [
        {
          "output_type": "stream",
          "name": "stdout",
          "text": [
            "status : succeeded, model : ft:gpt-4.1-mini-2025-04-14:personal::BUr7QDWD\n",
            "문의 : 배송이 언제 도착하나요?\n",
            "답변 : 일반적으로 배송은 2~3일 정도 소요됩니다. 지역에 따라 다를 수 있습니다.\n",
            "토큰사용량 : 66\n",
            "처리속도 : 2.9611661434173584\n",
            "문의 : 교환은 어떻게  하나요?\n",
            "답변 : 교환을 원하시는 경우, 마이페이지 > 주문 내역에서 해당 상품을 선택하고 교환 신청 버튼을 눌러주세요.\n",
            "토큰사용량 : 74\n",
            "처리속도 : 1.0702884197235107\n",
            "문의 : 환불은 어떻게 하면 되나요?\n",
            "답변 : 마이페이지 > 주문 내역에서 해당 상품을 선택하고 환불 신청 버튼을 눌러주세요.\n",
            "토큰사용량 : 66\n",
            "처리속도 : 1.544508695602417\n",
            "문의 : 상품이 파손되어 도착했어요 이럴때는 어떻게 하나요?\n",
            "답변 : 죄송합니다. 상품이 파손되어 도착한 경우, 고객센터로 문의해주시면 신속히 교환 또는 환불 절차를 안내해드리겠습니다.\n",
            "토큰사용량 : 90\n",
            "처리속도 : 0.6094903945922852\n"
          ]
        }
      ]
    },
    {
      "cell_type": "code",
      "source": [],
      "metadata": {
        "id": "YQdYsAVuCfYa"
      },
      "execution_count": null,
      "outputs": []
    }
  ]
}